{
 "cells": [
  {
   "cell_type": "code",
   "execution_count": 2,
   "metadata": {},
   "outputs": [],
   "source": [
    "import requests\n",
    "from bs4 import BeautifulSoup"
   ]
  },
  {
   "cell_type": "code",
   "execution_count": 6,
   "metadata": {},
   "outputs": [],
   "source": [
    "game_url = 'https://www.basketball-reference.com/boxscores/202008250DEN.html'"
   ]
  },
  {
   "cell_type": "code",
   "execution_count": 42,
   "metadata": {},
   "outputs": [],
   "source": [
    "game_request = requests.get('https://www.basketball-reference.com/boxscores/202008250DEN.html')\n",
    "game_soup = BeautifulSoup(game_request.text, 'lxml')"
   ]
  },
  {
   "cell_type": "code",
   "execution_count": 71,
   "metadata": {},
   "outputs": [
    {
     "data": {
      "text/plain": [
       "<th class=\"left\" csk=\"Murray,Jamal\" data-append-csv=\"murraja01\" data-stat=\"player\" scope=\"row\"><a href=\"/players/m/murraja01.html\">Jamal Murray</a></th>"
      ]
     },
     "execution_count": 71,
     "metadata": {},
     "output_type": "execute_result"
    }
   ],
   "source": [
    "game_soup.find_all(id = 'div_box-DEN-game-basic')[0].find_all('tbody')[0].find_all('tr')[1].contents[0]"
   ]
  },
  {
   "cell_type": "code",
   "execution_count": 72,
   "metadata": {},
   "outputs": [],
   "source": [
    "visiting_abbrev = 'UTA'\n",
    "home_abbrev = 'DEN'"
   ]
  },
  {
   "cell_type": "code",
   "execution_count": 75,
   "metadata": {},
   "outputs": [],
   "source": [
    "home_roster = game_soup.find_all(id = 'div_box-{}-game-basic'.format(home_abbrev)\n",
    "                                )[0].find_all('tbody')[0].find_all('tr')"
   ]
  },
  {
   "cell_type": "code",
   "execution_count": 91,
   "metadata": {},
   "outputs": [],
   "source": [
    "visiting_roster = game_soup.find_all(id = 'div_box-{}-game-basic'.format(visiting_abbrev)\n",
    "                                )[0].find_all('tbody')[0].find_all('tr')"
   ]
  },
  {
   "cell_type": "code",
   "execution_count": 90,
   "metadata": {},
   "outputs": [
    {
     "name": "stdout",
     "output_type": "stream",
     "text": [
      "/players/j/jokicni01.html\n",
      "/players/m/murraja01.html\n",
      "/players/g/grantje01.html\n",
      "/players/m/millspa01.html\n",
      "/players/m/morrimo01.html\n"
     ]
    }
   ],
   "source": [
    "for player in home_roster[:5]:\n",
    "    print(player.contents[0].a.attrs['href'])"
   ]
  },
  {
   "cell_type": "code",
   "execution_count": 92,
   "metadata": {},
   "outputs": [
    {
     "name": "stdout",
     "output_type": "stream",
     "text": [
      "/players/g/goberru01.html\n",
      "/players/m/mitchdo01.html\n",
      "/players/o/onealro01.html\n",
      "/players/c/conlemi01.html\n",
      "/players/i/inglejo01.html\n"
     ]
    }
   ],
   "source": [
    "for player in visiting_roster[:5]:\n",
    "    print(player.contents[0].a.attrs['href'])"
   ]
  },
  {
   "cell_type": "code",
   "execution_count": null,
   "metadata": {},
   "outputs": [],
   "source": []
  }
 ],
 "metadata": {
  "kernelspec": {
   "display_name": "Python 3",
   "language": "python",
   "name": "python3"
  },
  "language_info": {
   "codemirror_mode": {
    "name": "ipython",
    "version": 3
   },
   "file_extension": ".py",
   "mimetype": "text/x-python",
   "name": "python",
   "nbconvert_exporter": "python",
   "pygments_lexer": "ipython3",
   "version": "3.7.4"
  }
 },
 "nbformat": 4,
 "nbformat_minor": 2
}
